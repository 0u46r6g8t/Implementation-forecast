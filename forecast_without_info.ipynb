{
 "cells": [
  {
   "cell_type": "markdown",
   "metadata": {
    "id": "LpVJHAHsdZXu"
   },
   "source": [
    "# Setup amazon forecast"
   ]
  },
  {
   "cell_type": "code",
   "execution_count": 1,
   "metadata": {
    "id": "ZJOzZNPCl6G8"
   },
   "outputs": [],
   "source": [
    "%%capture --no-stderr setup\n",
    "\n",
    "!pip install pandas s3fs matplotlib ipywidgets\n",
    "!pip install boto3\n",
    "!pip install boto3 --upgrade\n",
    "\n",
    "%reload_ext autoreload"
   ]
  },
  {
   "cell_type": "code",
   "execution_count": 2,
   "metadata": {
    "id": "oIpLK92KmCR6"
   },
   "outputs": [],
   "source": [
    "import sys\n",
    "import os\n",
    "import json\n",
    "from time import sleep\n",
    "from IPython.display import clear_output\n",
    "import asyncio\n",
    "import boto3\n",
    "import s3fs\n",
    "import pandas as pd"
   ]
  },
  {
   "cell_type": "code",
   "execution_count": 3,
   "metadata": {
    "id": "4S-XaNXZdeqN"
   },
   "outputs": [],
   "source": [
    "region = 'us-west-2'\n",
    "bucket_name = ''\n",
    "role_arn = ''\n",
    "password_user = ''\n",
    "password_user_secret = ''\n",
    "user_iam = ''\n",
    "url_user = ''"
   ]
  },
  {
   "cell_type": "code",
   "execution_count": 4,
   "metadata": {
    "id": "8D9hWMckH12B"
   },
   "outputs": [],
   "source": [
    "## This step is necessary to use the service of s3, iam, and other services\n",
    "\n",
    "os.environ['AWS_ACCESS_KEY_ID'] = password_user\n",
    "os.environ['AWS_SECRET_ACCESS_KEY'] = password_user_secret"
   ]
  },
  {
   "cell_type": "code",
   "execution_count": 5,
   "metadata": {
    "colab": {
     "background_save": true
    },
    "id": "nReU7NrHmxSJ"
   },
   "outputs": [],
   "source": [
    "## Configurations of the sessions and instances to forecast\n",
    "\n",
    "session = boto3.Session(region_name=region, aws_access_key_id=password_user, aws_secret_access_key=password_user_secret)\n",
    "forecast = session.client(service_name='forecast')\n",
    "forecastQuery = session.client(service_name='forecastquery')"
   ]
  },
  {
   "cell_type": "code",
   "execution_count": 6,
   "metadata": {
    "colab": {
     "base_uri": "https://localhost:8080/"
    },
    "id": "Z1c3l2oq8g9e",
    "outputId": "18ab04ce-1f88-4d38-a941-cd4d7fe595a2"
   },
   "outputs": [
    {
     "name": "stdout",
     "output_type": "stream",
     "text": [
      "Limpe todos os datasets por favor antes de continuar\n"
     ]
    }
   ],
   "source": [
    "# Get all datasets used in your register \n",
    "\n",
    "datasets = forecast.list_datasets()\n",
    "\n",
    "if datasets['Datasets']:\n",
    "  print('Limpe todos os datasets por favor antes de continuar')\n",
    "else:\n",
    "  print(\"Não existe dataset cadastrado! \")"
   ]
  },
  {
   "cell_type": "code",
   "execution_count": 7,
   "metadata": {
    "id": "wEtG8F8TwuIV"
   },
   "outputs": [],
   "source": [
    "# Create instance of s3\n",
    "s3 = boto3.Session().resource('s3')\n",
    "bucket = s3.Bucket(bucket_name)"
   ]
  },
  {
   "cell_type": "code",
   "execution_count": 8,
   "metadata": {
    "id": "Y1POuLVsGAz4"
   },
   "outputs": [],
   "source": [
    "object = s3.Object(bucket_name, 'your-file-in-s3')\n",
    "\n",
    "path_to_download = \"./your-path-to-download-the-file/name-of-file\"\n",
    "\n",
    "# Valida path to dataset\n",
    "if (not os.path.isdir('./your-path')):\n",
    "  os.mkdir('./your-path')\n",
    "object.download_file(path_to_download)\n",
    "\n",
    "data_c1 = pd.read_csv(path_to_download, names=['timestamp', 'item_id', 'demand'])"
   ]
  },
  {
   "cell_type": "code",
   "execution_count": 9,
   "metadata": {
    "colab": {
     "base_uri": "https://localhost:8080/",
     "height": 363
    },
    "id": "t0PGx2oVGimi",
    "outputId": "12c8221e-d6a1-4a8d-86db-677c9581f0c0"
   },
   "outputs": [
    {
     "data": {
      "text/html": [
       "<div>\n",
       "<style scoped>\n",
       "    .dataframe tbody tr th:only-of-type {\n",
       "        vertical-align: middle;\n",
       "    }\n",
       "\n",
       "    .dataframe tbody tr th {\n",
       "        vertical-align: top;\n",
       "    }\n",
       "\n",
       "    .dataframe thead th {\n",
       "        text-align: right;\n",
       "    }\n",
       "</style>\n",
       "<table border=\"1\" class=\"dataframe\">\n",
       "  <thead>\n",
       "    <tr style=\"text-align: right;\">\n",
       "      <th></th>\n",
       "      <th>timestamp</th>\n",
       "      <th>item_id</th>\n",
       "      <th>target_value</th>\n",
       "    </tr>\n",
       "  </thead>\n",
       "  <tbody>\n",
       "    <tr>\n",
       "      <th>0</th>\n",
       "      <td>timestamp</td>\n",
       "      <td>item_id</td>\n",
       "      <td>target_value</td>\n",
       "    </tr>\n",
       "    <tr>\n",
       "      <th>1</th>\n",
       "      <td>2003-10-13</td>\n",
       "      <td>78</td>\n",
       "      <td>820060.59</td>\n",
       "    </tr>\n",
       "    <tr>\n",
       "      <th>2</th>\n",
       "      <td>2000-07-13</td>\n",
       "      <td>65</td>\n",
       "      <td>302238.13</td>\n",
       "    </tr>\n",
       "    <tr>\n",
       "      <th>3</th>\n",
       "      <td>2000-09-28</td>\n",
       "      <td>95</td>\n",
       "      <td>127893.7</td>\n",
       "    </tr>\n",
       "    <tr>\n",
       "      <th>4</th>\n",
       "      <td>2001-07-15</td>\n",
       "      <td>30</td>\n",
       "      <td>75608.62</td>\n",
       "    </tr>\n",
       "    <tr>\n",
       "      <th>5</th>\n",
       "      <td>2002-09-13</td>\n",
       "      <td>81</td>\n",
       "      <td>873172.35</td>\n",
       "    </tr>\n",
       "    <tr>\n",
       "      <th>6</th>\n",
       "      <td>2003-01-02</td>\n",
       "      <td>83</td>\n",
       "      <td>367691.6</td>\n",
       "    </tr>\n",
       "    <tr>\n",
       "      <th>7</th>\n",
       "      <td>2000-04-13</td>\n",
       "      <td>86</td>\n",
       "      <td>450659.45</td>\n",
       "    </tr>\n",
       "    <tr>\n",
       "      <th>8</th>\n",
       "      <td>2001-01-06</td>\n",
       "      <td>47</td>\n",
       "      <td>606058.7</td>\n",
       "    </tr>\n",
       "    <tr>\n",
       "      <th>9</th>\n",
       "      <td>2002-09-14</td>\n",
       "      <td>14</td>\n",
       "      <td>1108263.02</td>\n",
       "    </tr>\n",
       "  </tbody>\n",
       "</table>\n",
       "</div>"
      ],
      "text/plain": [
       "    timestamp  item_id  target_value\n",
       "0   timestamp  item_id  target_value\n",
       "1  2003-10-13       78     820060.59\n",
       "2  2000-07-13       65     302238.13\n",
       "3  2000-09-28       95      127893.7\n",
       "4  2001-07-15       30      75608.62\n",
       "5  2002-09-13       81     873172.35\n",
       "6  2003-01-02       83      367691.6\n",
       "7  2000-04-13       86     450659.45\n",
       "8  2001-01-06       47      606058.7\n",
       "9  2002-09-14       14    1108263.02"
      ]
     },
     "execution_count": 9,
     "metadata": {},
     "output_type": "execute_result"
    }
   ],
   "source": [
    "# Showing data\n",
    "\n",
    "data_c1.rename({'demand': 'target_value'}, axis=1, inplace=True) ## Convert data to necessary!!!\n",
    "data_c1.head(10)"
   ]
  },
  {
   "cell_type": "markdown",
   "metadata": {
    "id": "WnaZf2NdIexd"
   },
   "source": [
    "# Create dataset"
   ]
  },
  {
   "cell_type": "code",
   "execution_count": 10,
   "metadata": {
    "colab": {
     "base_uri": "https://localhost:8080/"
    },
    "id": "wtU7BARL9I6p",
    "outputId": "549a95e4-aa78-43e2-97a4-d87adbe7cecf"
   },
   "outputs": [
    {
     "name": "stdout",
     "output_type": "stream",
     "text": [
      "Policy ID {'Policy': {'PolicyName': 'forecast-data-test-policy', 'PolicyId': 'ANPAXR4XQLJKIZRALGARK', 'Arn': 'arn:aws:iam::519471913556:policy/forecast-data-test-policy', 'Path': '/', 'DefaultVersionId': 'v43', 'AttachmentCount': 1, 'PermissionsBoundaryUsageCount': 0, 'IsAttachable': True, 'CreateDate': datetime.datetime(2023, 3, 29, 15, 48, 26, tzinfo=tzlocal()), 'UpdateDate': datetime.datetime(2023, 3, 30, 14, 52, 54, tzinfo=tzlocal()), 'Tags': []}, 'ResponseMetadata': {'RequestId': '1bf52225-b25c-4f7b-a987-13fb678e907c', 'HTTPStatusCode': 200, 'HTTPHeaders': {'x-amzn-requestid': '1bf52225-b25c-4f7b-a987-13fb678e907c', 'content-type': 'text/xml', 'content-length': '788', 'date': 'Fri, 31 Mar 2023 14:08:11 GMT'}, 'RetryAttempts': 0}}\n"
     ]
    }
   ],
   "source": [
    "# Create role in aws iam\n",
    "\n",
    "role_name = 'ForecastNotBook-basic'\n",
    "iam = boto3.client('iam')\n",
    "role_arn = iam.get_policy(PolicyArn='your-url-to-policy')\n",
    "\n",
    "print(f'Policy ID {role_arn}')"
   ]
  },
  {
   "cell_type": "code",
   "execution_count": 11,
   "metadata": {
    "id": "ITotnZSvPhOO"
   },
   "outputs": [],
   "source": [
    "\n",
    "def create_response():\n",
    "  return forecast.describe_dataset_import_job(DatasetImportJobArn=ts_dataset_import_job_arn)\n",
    "\n",
    "def create_predictor():\n",
    "  return forecast.describe_auto_predictor(PredictorArn=predictor_arn)\n",
    "\n",
    "# Responsable to clear all datasets, groups and groupsImports\n",
    "def getAllGroupsAndDatasets():\n",
    "  datasets = forecast.list_datasets()\n",
    "  groupsImport = forecast.list_dataset_import_jobs()\n",
    "  groups = forecast.list_dataset_groups()\n",
    "\n",
    "\n",
    "  for group in groupsImport['DatasetImportJobs']:\n",
    "    try:\n",
    "      forecast.delete_dataset_import_job(DatasetImportJobArn=group['DatasetImportJobArn'])\n",
    "    except Exception as e:\n",
    "      print(e)\n",
    "\n",
    "  for group in groups['DatasetGroups']:\n",
    "    try:\n",
    "      forecast.delete_dataset_group(DatasetGroupArn=group['DatasetGroupArn'])\n",
    "    except Exception as e:\n",
    "      print(e)\n",
    "\n",
    "  for dataset in datasets['Datasets']:\n",
    "    try:\n",
    "      forecast.delete_dataset(DatasetArn=dataset['DatasetArn'])\n",
    "    except Exception as e:\n",
    "      print(e)"
   ]
  },
  {
   "cell_type": "code",
   "execution_count": 12,
   "metadata": {
    "id": "pU6onpgSPjAx",
    "scrolled": true
   },
   "outputs": [
    {
     "name": "stdout",
     "output_type": "stream",
     "text": [
      "An error occurred (ResourceInUseException) when calling the DeleteDatasetImportJob operation: Operation not allowed when the resource arn:aws:forecast:us-west-2:519471913556:dataset-import-job/C1_DATASET_5/C1 is being referenced by these resources : [ arn:aws:forecast:us-west-2:519471913556:predictor/C1_PREDICTOR_01GWVFJ2S8MB5GVXVVKB9GQYR3 ]\n",
      "An error occurred (ResourceInUseException) when calling the DeleteDatasetGroup operation: Operation not allowed when the resource arn:aws:forecast:us-west-2:519471913556:dataset-group/DatasetC111 is being referenced by these resources : [ arn:aws:forecast:us-west-2:519471913556:predictor/C1_PREDICTOR_01GWVFJ2S8MB5GVXVVKB9GQYR3 ]\n",
      "An error occurred (ResourceInUseException) when calling the DeleteDataset operation: Operation not allowed when the resource arn:aws:forecast:us-west-2:519471913556:dataset/C1_DATASET_5 is being referenced by these resources : [ arn:aws:forecast:us-west-2:519471913556:dataset-import-job/C1_DATASET_5/C1 ]\n"
     ]
    }
   ],
   "source": [
    "getAllGroupsAndDatasets()"
   ]
  },
  {
   "cell_type": "markdown",
   "metadata": {
    "id": "Eqfg6CV8k9aE"
   },
   "source": [
    "# Clean datasets"
   ]
  },
  {
   "cell_type": "code",
   "execution_count": 95,
   "metadata": {
    "id": "n_NvdI-YHILK"
   },
   "outputs": [],
   "source": [
    "DATASET_FREQUENCY = 'H'\n",
    "TS_DATASET_NAME = 'C1_DATASET_5'\n",
    "TS_SCHEMA = {\n",
    "    \"Attributes\": [\n",
    "        {\n",
    "            \"AttributeName\":'timestamp',\n",
    "            \"AttributeType\":'timestamp',\n",
    "        },\n",
    "        {\n",
    "            \"AttributeName\":'item_id',\n",
    "            \"AttributeType\":'string',\n",
    "        },\n",
    "        {\n",
    "            \"AttributeName\":'target_value',\n",
    "            \"AttributeType\":'float'\n",
    "        }\n",
    "    ]\n",
    "}\n",
    "\n",
    "create_data_response = forecast.create_dataset(\n",
    "  Domain='CUSTOM',\n",
    "  DatasetType='TARGET_TIME_SERIES',\n",
    "  DatasetName=TS_DATASET_NAME,\n",
    "  DataFrequency=DATASET_FREQUENCY,\n",
    "  Schema=TS_SCHEMA\n",
    ")"
   ]
  },
  {
   "cell_type": "code",
   "execution_count": 96,
   "metadata": {
    "id": "ZYHsVoSjS0x2"
   },
   "outputs": [],
   "source": [
    "ts_dtaset_arn = create_data_response['DatasetArn']\n",
    "describe_dataset_res = forecast.describe_dataset(DatasetArn=ts_dtaset_arn)"
   ]
  },
  {
   "cell_type": "code",
   "execution_count": 97,
   "metadata": {
    "colab": {
     "base_uri": "https://localhost:8080/"
    },
    "id": "EixEW_CEH-u5",
    "outputId": "7a857ec6-f804-4613-ac2d-4d8d5ebb90b0"
   },
   "outputs": [
    {
     "name": "stdout",
     "output_type": "stream",
     "text": [
      "The Dataset with ARN arn:aws:forecast:us-west-2:519471913556:dataset/C1_DATASET_5 is now ACTIVE.\n"
     ]
    }
   ],
   "source": [
    "print(f\"The Dataset with ARN {ts_dtaset_arn} is now {describe_dataset_res['Status']}.\")\n",
    "key = 'your-file'\n",
    "ts_s3_path = f\"s3://{bucket_name}/{key}\""
   ]
  },
  {
   "cell_type": "markdown",
   "metadata": {
    "id": "CoF06lEqjcqo"
   },
   "source": [
    "# List Roles in politics"
   ]
  },
  {
   "cell_type": "code",
   "execution_count": 98,
   "metadata": {
    "id": "OjojWxfNJAv7"
   },
   "outputs": [],
   "source": [
    "policy_name_arn = role_arn['Policy']['Arn']"
   ]
  },
  {
   "cell_type": "code",
   "execution_count": 99,
   "metadata": {
    "colab": {
     "base_uri": "https://localhost:8080/"
    },
    "id": "KjB2Zm4OKOB3",
    "outputId": "b80400ab-9143-4710-9a1f-3ba6d8dbe6fa"
   },
   "outputs": [
    {
     "name": "stdout",
     "output_type": "stream",
     "text": [
      "Role name is arn:aws:iam::519471913556:role/service-role/AmazonForecast-ExecutionRole-1680013362325\n"
     ]
    }
   ],
   "source": [
    "role =  iam.get_role(RoleName='AmazonForecast-ExecutionRole-1680013362325')\n",
    "role_name = role['Role']['Arn']\n",
    "print(f'Role name is {role_name}')"
   ]
  },
  {
   "cell_type": "code",
   "execution_count": 100,
   "metadata": {
    "id": "m9Bg4pxlJPpA"
   },
   "outputs": [],
   "source": [
    "# Importing the dataset\n",
    "TIMESTAMP_FORMAT = 'yyyy-MM-dd' # Type of timestamp what the use in dataset\n",
    "TS_IMPORT_JOB_NAME = 'C1' ## This name can it change\n",
    "TIMEZONE = 'EST' # Region of data use\n",
    "\n",
    "ts_dataset_import_job_response = \\\n",
    "  forecast.create_dataset_import_job(\n",
    "      DatasetImportJobName=TS_IMPORT_JOB_NAME,\n",
    "      DatasetArn=ts_dtaset_arn,\n",
    "      DataSource={\n",
    "          \"S3Config\": {\n",
    "              \"Path\": ts_s3_path,\n",
    "              \"RoleArn\": role_name\n",
    "              \n",
    "          },\n",
    "          \n",
    "      },\n",
    "      TimestampFormat=TIMESTAMP_FORMAT,\n",
    "      TimeZone = TIMEZONE\n",
    "  )\n"
   ]
  },
  {
   "cell_type": "code",
   "execution_count": 101,
   "metadata": {
    "colab": {
     "base_uri": "https://localhost:8080/"
    },
    "id": "UHNR5QBUVc6s",
    "outputId": "bd22a6d3-5acc-4696-8669-805d27887b0a"
   },
   "outputs": [
    {
     "name": "stdout",
     "output_type": "stream",
     "text": [
      "Waiting for Dataset Import Job with ARN arn:aws:forecast:us-west-2:519471913556:dataset-import-job/C1_DATASET_5/C1 to become ACTIVE. This process could take 5-10 minutes.\n",
      "\n",
      "Current Status:\n",
      "\n",
      "\n",
      "The Dataset Import Job with ARN arn:aws:forecast:us-west-2:519471913556:dataset-import-job/C1_DATASET_5/C1 is now CREATE_PENDING.\n"
     ]
    }
   ],
   "source": [
    "ts_dataset_import_job_arn = ts_dataset_import_job_response['DatasetImportJobArn']\n",
    "describe_dataset_import_job_response = forecast.describe_dataset_import_job(DatasetImportJobArn=ts_dataset_import_job_arn)\n",
    "\n",
    "print(f\"Waiting for Dataset Import Job with ARN {ts_dataset_import_job_arn} to become ACTIVE. This process could take 5-10 minutes.\\n\\nCurrent Status:\")\n",
    "describe_dataset_import_job_response = forecast.describe_dataset_import_job(DatasetImportJobArn=ts_dataset_import_job_arn)\n",
    "print(f\"\\n\\nThe Dataset Import Job with ARN {ts_dataset_import_job_arn} is now {describe_dataset_import_job_response['Status']}.\")"
   ]
  },
  {
   "cell_type": "code",
   "execution_count": 104,
   "metadata": {
    "colab": {
     "base_uri": "https://localhost:8080/"
    },
    "id": "Wn4RF8VDIhUX",
    "outputId": "fc8a41dd-85bb-4ffc-b343-e6ce5bade83d"
   },
   "outputs": [],
   "source": [
    "while create_response()['Status'] == 'CREATE_IN_PROGRESS':\n",
    "  print('Criando dataset')\n",
    "  sleep(1)"
   ]
  },
  {
   "cell_type": "code",
   "execution_count": 105,
   "metadata": {
    "id": "R6hu0E_JWm9x"
   },
   "outputs": [],
   "source": [
    "# Create a datagroup\n",
    "\n",
    "DATASET_GROUP_NAME = \"name-of-to-database\"\n",
    "DATASET_ARNS = [ts_dtaset_arn]\n",
    "\n",
    "create_dataset_group_response = \\\n",
    "    forecast.create_dataset_group(Domain=\"CUSTOM\",\n",
    "                                  DatasetGroupName=DATASET_GROUP_NAME,\n",
    "                                  DatasetArns=DATASET_ARNS)"
   ]
  },
  {
   "cell_type": "code",
   "execution_count": 106,
   "metadata": {
    "colab": {
     "base_uri": "https://localhost:8080/"
    },
    "id": "WmnsET8Xdj0g",
    "outputId": "c8cf11f5-1b28-4eeb-d09b-5d7874a6623e"
   },
   "outputs": [
    {
     "name": "stdout",
     "output_type": "stream",
     "text": [
      "The DatasetGroup with ARN arn:aws:forecast:us-west-2:519471913556:dataset-group/DatasetC111 is now ACTIVE.\n"
     ]
    }
   ],
   "source": [
    "dataset_group_arn = create_dataset_group_response['DatasetGroupArn']\n",
    "describe_dataset_group_response = forecast.describe_dataset_group(DatasetGroupArn=dataset_group_arn)\n",
    "\n",
    "print(f\"The DatasetGroup with ARN {dataset_group_arn} is now {describe_dataset_group_response['Status']}.\")"
   ]
  },
  {
   "cell_type": "markdown",
   "metadata": {
    "id": "EOBxsNk-dzbi"
   },
   "source": [
    "# Train Predictor"
   ]
  },
  {
   "cell_type": "code",
   "execution_count": 109,
   "metadata": {
    "colab": {
     "base_uri": "https://localhost:8080/"
    },
    "id": "JNuXP3RUdu39",
    "outputId": "1c46339c-9019-4e63-8671-c987767680d8"
   },
   "outputs": [
    {
     "name": "stdout",
     "output_type": "stream",
     "text": [
      "Waiting for Predictor with ARN arn:aws:forecast:us-west-2:519471913556:predictor/C1_PREDICTOR_01GWTENBH8Y7J56S2RC5WEVRK6 to become ACTIVE. Depending on data size and predictor setting，it can take several hours to be ACTIVE.\n",
      "\n",
      "Current Status:\n",
      "\n",
      "\n",
      "The Predictor with ARN arn:aws:forecast:us-west-2:519471913556:predictor/C1_PREDICTOR_01GWTENBH8Y7J56S2RC5WEVRK6 is now CREATE_PENDING.\n"
     ]
    }
   ],
   "source": [
    "PREDICTOR_NAME = \"name-of-to-predictor\"\n",
    "FORECAST_HORIZON = 0 # points that use in predictor\n",
    "FORECAST_FREQUENCY = \"H\"\n",
    "HOLIDAY_DATASET = [{\n",
    "        'Name': 'holiday',\n",
    "        'Configuration': {\n",
    "        'CountryCode': ['US']\n",
    "    }\n",
    "}]\n",
    "\n",
    "create_auto_predictor_response = \\\n",
    "    forecast.create_auto_predictor(PredictorName = PREDICTOR_NAME,\n",
    "                                   ForecastHorizon=FORECAST_HORIZON,\n",
    "                                   ForecastFrequency = FORECAST_FREQUENCY,\n",
    "                                   DataConfig = {\n",
    "                                       'DatasetGroupArn': dataset_group_arn, \n",
    "                                       'AdditionalDatasets': HOLIDAY_DATASET\n",
    "                                    },\n",
    "                                   ExplainPredictor = False)\n",
    "\n",
    "predictor_arn = create_auto_predictor_response['PredictorArn']\n",
    "print(f\"Waiting for Predictor with ARN {predictor_arn} to become ACTIVE. Depending on data size and predictor setting，it can take several hours to be ACTIVE.\")\n",
    "\n",
    "describe_auto_predictor_response = forecast.describe_auto_predictor(PredictorArn=predictor_arn)\n",
    "print(f\"\\n\\nThe Predictor with ARN {predictor_arn} is now {describe_auto_predictor_response['Status']}.\")"
   ]
  },
  {
   "cell_type": "code",
   "execution_count": 110,
   "metadata": {
    "colab": {
     "base_uri": "https://localhost:8080/",
     "height": 321
    },
    "id": "iwp0L1bbjwg4",
    "outputId": "044b1d3d-52d1-403a-dfc6-8e5a9a876d3b"
   },
   "outputs": [],
   "source": [
    "while create_predictor()['Status'] == 'CREATE_IN_PROGRESS':\n",
    "  print('Criando dataset')\n",
    "  sleep(1)"
   ]
  },
  {
   "cell_type": "code",
   "execution_count": null,
   "metadata": {
    "id": "KqftDYnAgwut"
   },
   "outputs": [],
   "source": []
  }
 ],
 "metadata": {
  "accelerator": "GPU",
  "celltoolbar": "Attachments",
  "colab": {
   "provenance": []
  },
  "gpuClass": "standard",
  "kernelspec": {
   "display_name": "Python 3 (ipykernel)",
   "language": "python",
   "name": "python3"
  },
  "language_info": {
   "codemirror_mode": {
    "name": "ipython",
    "version": 3
   },
   "file_extension": ".py",
   "mimetype": "text/x-python",
   "name": "python",
   "nbconvert_exporter": "python",
   "pygments_lexer": "ipython3",
   "version": "3.10.6"
  }
 },
 "nbformat": 4,
 "nbformat_minor": 1
}
